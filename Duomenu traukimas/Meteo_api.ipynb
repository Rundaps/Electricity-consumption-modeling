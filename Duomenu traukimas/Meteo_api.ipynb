{
 "cells": [
  {
   "cell_type": "code",
   "execution_count": 1,
   "metadata": {},
   "outputs": [],
   "source": [
    "import fjos\n",
    "\n"
   ]
  },
  {
   "cell_type": "code",
   "execution_count": null,
   "metadata": {},
   "outputs": [],
   "source": [
    "stotys = ['vilniaus-ams']\n",
    "# stotys = ['vilniaus-ams', 'klaipedos-ams', 'kauno-ams', 'panevezio-ams', 'siauliu-ams']\n",
    "\n",
    "prad = '2022-07-01'\n",
    "pab = '2024-07-01'\n",
    "\n",
    "fjos.data_extr_meteo(stotys, prad, pab)"
   ]
  }
 ],
 "metadata": {
  "kernelspec": {
   "display_name": "Python 3",
   "language": "python",
   "name": "python3"
  },
  "language_info": {
   "codemirror_mode": {
    "name": "ipython",
    "version": 3
   },
   "file_extension": ".py",
   "mimetype": "text/x-python",
   "name": "python",
   "nbconvert_exporter": "python",
   "pygments_lexer": "ipython3",
   "version": "3.12.4"
  }
 },
 "nbformat": 4,
 "nbformat_minor": 2
}
